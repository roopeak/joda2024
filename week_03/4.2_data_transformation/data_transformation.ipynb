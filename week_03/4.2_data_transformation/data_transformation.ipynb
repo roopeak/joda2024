{
 "cells": [
  {
   "cell_type": "markdown",
   "metadata": {},
   "source": [
    "## Data transformation\n",
    "\n",
    "This is the second automatically graded exercise for JODA. The objective here is to get our hands dirty with data. \n",
    "\n",
    "The context of this particular analysis is a fictional company that routinely runs different machine learning operations. \n",
    "\n",
    "We have generated a dataset that has the following columns or properties (to be engineered into features):\n",
    "\n",
    "* Date\n",
    "* Department\n",
    "* ML Task ID\n",
    "* ML Method\n",
    "* Task Category\n",
    "* Model Complexity (Parameters)\n",
    "* Training Data Size (GB)\n",
    "* Training Duration (Hours)\n",
    "* Hardware Used\n",
    "* Energy Consumption (kWh)\n",
    "* CO2 Emissions (Kg)\n",
    "* Cloud Provider\n",
    "\n",
    "Moreover, there is a secondary dataset that includes information about the energy sources for the different cloud providers:\n",
    "\n",
    "* Cloud Provider    \n",
    "* Green Energy\n"
   ]
  },
  {
   "cell_type": "markdown",
   "metadata": {},
   "source": [
    "#### Install the required packages using requirements.txt "
   ]
  },
  {
   "cell_type": "markdown",
   "metadata": {},
   "source": [
    "pip install -r requirements.txt "
   ]
  },
  {
   "cell_type": "markdown",
   "metadata": {},
   "source": [
    "#### Import the needed packages  "
   ]
  },
  {
   "cell_type": "code",
   "execution_count": 563,
   "metadata": {},
   "outputs": [],
   "source": [
    "import pandas as pd"
   ]
  },
  {
   "cell_type": "markdown",
   "metadata": {},
   "source": [
    "#### Read the two data files"
   ]
  },
  {
   "cell_type": "code",
   "execution_count": 564,
   "metadata": {},
   "outputs": [],
   "source": [
    "emissions = pd.read_excel(\"./data/co2-emissions.xlsx\")\n",
    "cloud_providers = pd.read_excel(\"./data/cloud-providers.xlsx\")"
   ]
  },
  {
   "cell_type": "markdown",
   "metadata": {},
   "source": [
    "#### Joining the two data frames to add information about the energy sources that the cloud providers use."
   ]
  },
  {
   "cell_type": "code",
   "execution_count": 565,
   "metadata": {},
   "outputs": [],
   "source": [
    "emissions_df = pd.DataFrame(emissions)\n",
    "cloud_providers_df = pd.DataFrame(cloud_providers)\n",
    "\n",
    "merged_df = pd.merge(emissions_df, cloud_providers_df, on=\"Cloud Provider\", how=\"left\")\n",
    "# print(merged_df)"
   ]
  },
  {
   "cell_type": "markdown",
   "metadata": {},
   "source": [
    "#### Aggregating the data to department level. Each row represents the aggregated values for each department."
   ]
  },
  {
   "cell_type": "code",
   "execution_count": 566,
   "metadata": {},
   "outputs": [],
   "source": [
    "# Group by department, ML method, and green energy category, then sum CO2 emissions\n",
    "co2_distribution = merged_df.groupby(['Department', 'ML Method', 'Green Energy'])['CO2 Emissions (Kg)'].sum().reset_index()\n",
    "\n",
    "# Pivot the data to have departments and ML methods as rows and green energy categories as columns\n",
    "co2_distribution_pivot = co2_distribution.pivot_table(index=['Department', 'ML Method'], columns='Green Energy', values='CO2 Emissions (Kg)', aggfunc='sum').fillna(0)\n",
    "\n",
    "# Reset index to make Department and ML Method regular columns\n",
    "co2_distribution_pivot.reset_index(inplace=True)\n",
    "\n",
    "# Rename columns for better clarity\n",
    "co2_distribution_pivot.columns = ['Department', 'ML Method', 'Green', 'Hybrid', 'Unknown']\n",
    "\n",
    "# Calculate the total CO2 emissions for each department and ML method\n",
    "co2_distribution_pivot['CO2 Emissions (Kg)'] = co2_distribution_pivot['Green'] + co2_distribution_pivot['Hybrid'] + co2_distribution_pivot['Unknown']\n",
    "\n",
    "# Reorder the columns\n",
    "co2_distribution_pivot = co2_distribution_pivot[['Department', 'CO2 Emissions (Kg)', 'ML Method', 'Green', 'Hybrid', 'Unknown']]\n",
    "\n",
    "# print(co2_distribution_pivot)"
   ]
  },
  {
   "cell_type": "markdown",
   "metadata": {},
   "source": [
    "#### Calculate the total of CO2 emissions for each department"
   ]
  },
  {
   "cell_type": "code",
   "execution_count": 567,
   "metadata": {},
   "outputs": [],
   "source": [
    "total_co2_emissions = co2_distribution_pivot.groupby('Department')['CO2 Emissions (Kg)'].sum().reset_index()\n",
    "\n",
    "# print(total_co2_emissions)"
   ]
  },
  {
   "cell_type": "markdown",
   "metadata": {},
   "source": [
    "#### Renaming the column CO2 Emissions (Kg)"
   ]
  },
  {
   "cell_type": "code",
   "execution_count": 568,
   "metadata": {},
   "outputs": [],
   "source": [
    "co2_distribution_pivot.rename(columns={\"CO2 Emissions (Kg)\": \"co2_emissions_kg\"}, inplace=True)\n",
    "# print(co2_distribution_pivot)"
   ]
  },
  {
   "cell_type": "markdown",
   "metadata": {},
   "source": [
    "#### Creating a function that picks the most common value among in a Pandas Series object"
   ]
  },
  {
   "cell_type": "code",
   "execution_count": 569,
   "metadata": {},
   "outputs": [],
   "source": [
    "def pick_most_frequent(values):\n",
    "\t# Convert the input to a pandas Series if it's not already one\n",
    "\tif not isinstance(values, pd.Series):\n",
    "\t\tvalues = pd.Series(values)\n",
    "\t\n",
    "\t# Use mode() function to find the most frequent value\n",
    "\tmode_values = values.mode()\n",
    "\t\n",
    "\t# If there are multiple modes, return the first one\n",
    "\treturn mode_values[0]\n"
   ]
  },
  {
   "cell_type": "markdown",
   "metadata": {},
   "source": [
    "#### Picking the most frequent ML method for each department."
   ]
  },
  {
   "cell_type": "code",
   "execution_count": 570,
   "metadata": {},
   "outputs": [],
   "source": [
    "# Group by department and apply pick_most_frequent to ML Method\n",
    "most_frequent_ml_method = merged_df.groupby('Department')['ML Method'].agg(pick_most_frequent).reset_index()\n",
    "\n",
    "# print(most_frequent_ml_method)"
   ]
  },
  {
   "cell_type": "markdown",
   "metadata": {},
   "source": [
    "#### Sorting the DataFrame to set the department with the largest emissions first"
   ]
  },
  {
   "cell_type": "code",
   "execution_count": 571,
   "metadata": {},
   "outputs": [],
   "source": [
    "# Calculate total CO2 emissions for each department\n",
    "total_co2_emissions = co2_distribution_pivot.groupby('Department')['co2_emissions_kg'].sum().reset_index()\n",
    "\n",
    "# Merge the most frequent ML method DataFrame with total CO2 emissions DataFrame\n",
    "result = pd.merge(most_frequent_ml_method, total_co2_emissions, on='Department')\n",
    "\n",
    "# Sort the DataFrame by CO2 emissions in descending order\n",
    "result = result.sort_values(by='co2_emissions_kg', ascending=False)\n",
    "\n",
    "# print(result)"
   ]
  },
  {
   "cell_type": "markdown",
   "metadata": {},
   "source": [
    "#### Calculating the CO2 emissions for each department in different Green Energy categories"
   ]
  },
  {
   "cell_type": "code",
   "execution_count": 572,
   "metadata": {},
   "outputs": [],
   "source": [
    "# Group by department and sum CO2 emissions\n",
    "co2_emissions_by_department = co2_distribution_pivot.groupby('Department')['Green'].sum().reset_index()\n",
    "\n",
    "# print(co2_emissions_by_department)"
   ]
  },
  {
   "cell_type": "markdown",
   "metadata": {},
   "source": [
    "#### Calculating the sum of emissions per energy types for every department"
   ]
  },
  {
   "cell_type": "code",
   "execution_count": 573,
   "metadata": {},
   "outputs": [],
   "source": [
    "# Calculate sum of Hybrid and Unknown emissions by Department\n",
    "co2_emissions_hybrid = co2_distribution_pivot.groupby('Department')['Hybrid'].sum().reset_index()\n",
    "co2_emissions_unknown = co2_distribution_pivot.groupby('Department')['Unknown'].sum().reset_index()\n",
    "\n",
    "# Merge with co2_emissions_by_department DataFrame\n",
    "co2_emissions_by_department = pd.merge(co2_emissions_by_department, co2_emissions_hybrid, on='Department')\n",
    "co2_emissions_by_department = pd.merge(co2_emissions_by_department, co2_emissions_unknown, on='Department')\n",
    "\n",
    "# Merge the result to the final DataFrame\n",
    "final_df = pd.merge(result, co2_emissions_by_department)\n",
    "\n",
    "# print(final_df)\n"
   ]
  },
  {
   "cell_type": "code",
   "execution_count": 574,
   "metadata": {},
   "outputs": [
    {
     "name": "stdout",
     "output_type": "stream",
     "text": [
      "Folder 'results' already exists.\n"
     ]
    }
   ],
   "source": [
    "import os\n",
    "\n",
    "def ensure_folder_exists(folder_path):\n",
    "    if not os.path.exists(folder_path):\n",
    "        os.makedirs(folder_path)\n",
    "        print(f\"Folder '{folder_path}' created.\")\n",
    "    else:\n",
    "        print(f\"Folder '{folder_path}' already exists.\")\n",
    "\n",
    "ensure_folder_exists('results')"
   ]
  },
  {
   "cell_type": "markdown",
   "metadata": {},
   "source": [
    "#### Save the results to Excel and Pickle"
   ]
  },
  {
   "cell_type": "code",
   "execution_count": 575,
   "metadata": {},
   "outputs": [],
   "source": [
    "final_df.to_excel('results/department_co2.xlsx', index=False)\n",
    "final_df.to_pickle('results/department_co2.pkl')"
   ]
  }
 ],
 "metadata": {
  "kernelspec": {
   "display_name": ".venv",
   "language": "python",
   "name": "python3"
  },
  "language_info": {
   "codemirror_mode": {
    "name": "ipython",
    "version": 3
   },
   "file_extension": ".py",
   "mimetype": "text/x-python",
   "name": "python",
   "nbconvert_exporter": "python",
   "pygments_lexer": "ipython3",
   "version": "3.11.7"
  }
 },
 "nbformat": 4,
 "nbformat_minor": 2
}
