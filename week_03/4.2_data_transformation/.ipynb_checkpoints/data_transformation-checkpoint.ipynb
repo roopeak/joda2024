{
 "cells": [
  {
   "cell_type": "markdown",
   "metadata": {},
   "source": [
    "## Data transformation\n",
    "\n",
    "This is the second automatically graded exercise for JODA. The objective here is to get our hands dirty with data. \n",
    "\n",
    "The context of this particular analysis is a fictional company that routinely runs different machine learning operations. \n",
    "\n",
    "We have generated a dataset that has the following columns or properties (to be engineered into features):\n",
    "\n",
    "* Date\n",
    "* Department\n",
    "* ML Task ID\n",
    "* ML Method\n",
    "* Task Category\n",
    "* Model Complexity (Parameters)\n",
    "* Training Data Size (GB)\n",
    "* Training Duration (Hours)\n",
    "* Hardware Used\n",
    "* Energy Consumption (kWh)\n",
    "* CO2 Emissions (Kg)\n",
    "* Cloud Provider\n",
    "\n",
    "Moreover, there is a secondary dataset that includes information about the energy sources for the different cloud providers:\n",
    "\n",
    "* Cloud Provider    \n",
    "* Green Energy\n"
   ]
  },
  {
   "cell_type": "markdown",
   "metadata": {},
   "source": [
    "TODO: Install the required packages using requirements.txt\n",
    "\n",
    "\n",
    "TODO: Import the needed packages   "
   ]
  },
  {
   "cell_type": "markdown",
   "metadata": {},
   "source": [
    "pip install -r requirements.txt "
   ]
  },
  {
   "cell_type": "code",
   "execution_count": 59,
   "metadata": {},
   "outputs": [],
   "source": [
    "import pandas as pd"
   ]
  },
  {
   "cell_type": "markdown",
   "metadata": {},
   "source": [
    "TODO: Read the two data files\n"
   ]
  },
  {
   "cell_type": "code",
   "execution_count": 60,
   "metadata": {},
   "outputs": [],
   "source": [
    "emissions = pd.read_excel(\"./data/co2-emissions.xlsx\")\n",
    "cloud_providers = pd.read_excel(\"./data/cloud-providers.xlsx\")"
   ]
  },
  {
   "cell_type": "markdown",
   "metadata": {},
   "source": [
    "TODO: Join the two data frames to add information about the energy sources that the could providers use. [<code>merge()</code>](https://pandas.pydata.org/docs/reference/api/pandas.DataFrame.merge.html) should be useful here.\n",
    "\n",
    " "
   ]
  },
  {
   "cell_type": "code",
   "execution_count": 61,
   "metadata": {},
   "outputs": [
    {
     "name": "stdout",
     "output_type": "stream",
     "text": [
      "           Date        Department ML Task ID          ML Method  \\\n",
      "0    2024-02-01         Marketing     Task_1                RNN   \n",
      "1    2024-02-01        Operations     Task_2  Linear Regression   \n",
      "2    2024-02-01               R&D     Task_3      Decision Tree   \n",
      "3    2024-02-01  Customer Support     Task_4      Decision Tree   \n",
      "4    2024-02-02           Finance     Task_5        Transformer   \n",
      "..          ...               ...        ...                ...   \n",
      "995  2024-10-06   Human Resources   Task_996        Transformer   \n",
      "996  2024-10-07         Marketing   Task_997                RNN   \n",
      "997  2024-10-07        Operations   Task_998      Decision Tree   \n",
      "998  2024-10-07               R&D   Task_999  Linear Regression   \n",
      "999  2024-10-07  Customer Support  Task_1000  Linear Regression   \n",
      "\n",
      "            Task Category  Model Complexity (Parameters)  \\\n",
      "0    Image Classification                   2.008306e+06   \n",
      "1              Regression                   1.053744e+03   \n",
      "2     Machine Translation                   1.098484e+03   \n",
      "3         Text Generation                   9.131620e+02   \n",
      "4              Clustering                   8.023062e+06   \n",
      "..                    ...                            ...   \n",
      "995        Classification                   1.019204e+07   \n",
      "996  Image Classification                   2.151301e+06   \n",
      "997            Regression                   9.806739e+02   \n",
      "998   Machine Translation                   1.149546e+03   \n",
      "999       Text Generation                   8.866438e+02   \n",
      "\n",
      "     Training Data Size (GB)  Training Duration (Hours) Hardware Used  \\\n",
      "0                  44.885179                  11.437543           CPU   \n",
      "1                  12.288902                   0.994852           TPU   \n",
      "2                 127.561567                   1.903623           CPU   \n",
      "3                  15.563152                   2.348526           CPU   \n",
      "4                   4.043882                  44.420819           TPU   \n",
      "..                       ...                        ...           ...   \n",
      "995                 9.003950                  52.962566           GPU   \n",
      "996                53.736713                  11.923898           GPU   \n",
      "997                 6.344784                   2.266005           TPU   \n",
      "998                61.137406                   1.196389           CPU   \n",
      "999                24.217024                   1.119869           GPU   \n",
      "\n",
      "     Energy Consumption (kWh)  CO2 Emissions (Kg) Cloud Provider Green Energy  \n",
      "0                  150.145641           60.058256   EtherCompute        Green  \n",
      "1                   12.260144            4.904058      CloudTech      Unknown  \n",
      "2                   27.869589           11.147836      CloudTech      Unknown  \n",
      "3                   24.124306            9.649722   VirtualStack       Hybrid  \n",
      "4                  559.037179          223.614871     DataNimbus      Unknown  \n",
      "..                        ...                 ...            ...          ...  \n",
      "995                839.302301          335.720921         SkyNet      Unknown  \n",
      "996                151.037512           60.415005         SkyNet      Unknown  \n",
      "997                 35.675635           14.270254   VirtualStack       Hybrid  \n",
      "998                 14.085609            5.634244   EtherCompute        Green  \n",
      "999                 20.959053            8.383621   VirtualStack       Hybrid  \n",
      "\n",
      "[1000 rows x 13 columns]\n"
     ]
    }
   ],
   "source": [
    "emissions_df = pd.DataFrame(emissions)\n",
    "cloud_providers_df = pd.DataFrame(cloud_providers)\n",
    "\n",
    "merged_df = pd.merge(emissions_df, cloud_providers_df, on=\"Cloud Provider\", how=\"left\")\n",
    "print(merged_df)"
   ]
  },
  {
   "cell_type": "markdown",
   "metadata": {},
   "source": [
    "TODO: Aggregate the data to department level. That is, each row should represents the aggregated values for each department. Notice that you do not need to aggregate each different column, only the ones instructed explicitly.\n",
    "\n",
    "**Tip**: use the [<code>groubpy</code>](https://pandas.pydata.org/pandas-docs/stable/reference/api/pandas.DataFrame.groupby.html)-method in combination with [<code>agg</code>](https://pandas.pydata.org/pandas-docs/stable/reference/api/pandas.DataFrame.agg.html)."
   ]
  },
  {
   "cell_type": "code",
   "execution_count": 62,
   "metadata": {},
   "outputs": [
    {
     "name": "stdout",
     "output_type": "stream",
     "text": [
      "         Department  Energy Consumption (kWh)  CO2 Emissions (Kg)  \\\n",
      "0  Customer Support              31413.924746        12565.569898   \n",
      "1           Finance              33921.592956        13568.637182   \n",
      "2   Human Resources              38140.590106        15256.236043   \n",
      "3         Marketing              32054.390313        12821.756125   \n",
      "4        Operations              37512.254269        15004.901708   \n",
      "5               R&D              36612.185735        14644.874294   \n",
      "\n",
      "   Training Data Size (GB)  Training Duration (Hours)  \n",
      "0              3280.027274                2118.069606  \n",
      "1               834.589728                2317.090269  \n",
      "2              2409.027658                2575.194028  \n",
      "3              8646.264144                2137.758575  \n",
      "4              1627.063879                2516.405235  \n",
      "5             16028.992820                2437.529367  \n"
     ]
    }
   ],
   "source": [
    "aggregation_functions = {\n",
    "    'Energy Consumption (kWh)': 'sum',\n",
    "    'CO2 Emissions (Kg)': 'sum',\n",
    "    \"Training Data Size (GB)\": \"sum\",\n",
    "    \"Training Duration (Hours)\": \"sum\"\n",
    "}\n",
    "\n",
    "# Group by 'Department' and aggregate the specified columns\n",
    "aggregated_df = merged_df.groupby('Department').agg(aggregation_functions)\n",
    "\n",
    "# Reset index to make 'Department' a regular column\n",
    "aggregated_df = aggregated_df.reset_index()\n",
    "\n",
    "# Print the aggregated DataFrame\n",
    "print(aggregated_df)\n"
   ]
  },
  {
   "cell_type": "markdown",
   "metadata": {},
   "source": [
    "TODO: Calculate the total of CO2 emissions for each department"
   ]
  },
  {
   "cell_type": "code",
   "execution_count": 63,
   "metadata": {},
   "outputs": [
    {
     "name": "stdout",
     "output_type": "stream",
     "text": [
      "         Department  Total CO2 Emissions (Kg)\n",
      "0  Customer Support              12565.569898\n",
      "1           Finance              13568.637182\n",
      "2   Human Resources              15256.236043\n",
      "3         Marketing              12821.756125\n",
      "4        Operations              15004.901708\n",
      "5               R&D              14644.874294\n"
     ]
    }
   ],
   "source": [
    "# Assuming 'merged_df' is the merged DataFrame from the previous step\n",
    "\n",
    "# Calculate the total CO2 emissions for each department\n",
    "co2_emissions_total = merged_df.groupby('Department')['CO2 Emissions (Kg)'].sum()\n",
    "\n",
    "# Convert the series to a DataFrame and reset index\n",
    "co2_emissions_total_df = co2_emissions_total.reset_index()\n",
    "\n",
    "# Rename the column to indicate it represents the total CO2 emissions\n",
    "co2_emissions_total_df.rename(columns={'CO2 Emissions (Kg)': 'Total CO2 Emissions (Kg)'}, inplace=True)\n",
    "\n",
    "# Print the DataFrame showing total CO2 emissions for each department\n",
    "print(co2_emissions_total_df)\n"
   ]
  },
  {
   "cell_type": "code",
   "execution_count": 64,
   "metadata": {},
   "outputs": [
    {
     "ename": "SyntaxError",
     "evalue": "invalid syntax (3452151431.py, line 1)",
     "output_type": "error",
     "traceback": [
      "\u001b[0;36m  Cell \u001b[0;32mIn[64], line 1\u001b[0;36m\u001b[0m\n\u001b[0;31m    TODO: Rename CO2 emission column to <code>co2_emissions_kg</code>\u001b[0m\n\u001b[0m                 ^\u001b[0m\n\u001b[0;31mSyntaxError\u001b[0m\u001b[0;31m:\u001b[0m invalid syntax\n"
     ]
    }
   ],
   "source": [
    "TODO: Rename CO2 emission column to <code>co2_emissions_kg</code>   "
   ]
  },
  {
   "cell_type": "markdown",
   "metadata": {},
   "source": []
  },
  {
   "cell_type": "markdown",
   "metadata": {},
   "source": [
    "TODO: Create a function that picks the most common value among in a Pandas Series object"
   ]
  },
  {
   "cell_type": "code",
   "execution_count": null,
   "metadata": {},
   "outputs": [
    {
     "data": {
      "text/plain": [
       "'TODO'"
      ]
     },
     "execution_count": 7,
     "metadata": {},
     "output_type": "execute_result"
    }
   ],
   "source": [
    "\n",
    "def pick_most_frequent(values):\n",
    "    return 'TODO'\n",
    "\n",
    "pick_most_frequent(pd.Series(['A', 'B', 'B', 'C']))"
   ]
  },
  {
   "cell_type": "markdown",
   "metadata": {},
   "source": [
    "TODO: Pick the most frequent ML method for each department."
   ]
  },
  {
   "cell_type": "markdown",
   "metadata": {},
   "source": []
  },
  {
   "cell_type": "code",
   "execution_count": null,
   "metadata": {},
   "outputs": [],
   "source": []
  },
  {
   "cell_type": "markdown",
   "metadata": {},
   "source": [
    "TODO: Make sure that the rows are sorted according to CO2 emissions in a way that the department with the largest emissions is first."
   ]
  },
  {
   "cell_type": "markdown",
   "metadata": {},
   "source": [
    "TODO: Calculate the CO2 emissions for each department in different Green Energy categories. That is, the resulting dataframe will have as many colums as there are values for Green Energy."
   ]
  },
  {
   "cell_type": "markdown",
   "metadata": {},
   "source": [
    "Next, let's try to do something a bit more difficult. That is, calculate department CO2 emissions per energy type. \n",
    "\n",
    "One way to achieve this is to use pivot_table() function to create a separate dataframe with the new columns and join (using merge()) that to the main dataframe. We are sure there are even more clever ways. \n",
    "\n",
    "TODO: Include the specified columns to the result dataframe, one per each energy type. "
   ]
  },
  {
   "cell_type": "code",
   "execution_count": null,
   "metadata": {},
   "outputs": [],
   "source": [
    "df_providers['Green Energy'].value_counts()"
   ]
  },
  {
   "cell_type": "code",
   "execution_count": null,
   "metadata": {},
   "outputs": [],
   "source": [
    "import os\n",
    "\n",
    "def ensure_folder_exists(folder_path):\n",
    "    if not os.path.exists(folder_path):\n",
    "        os.makedirs(folder_path)\n",
    "        print(f\"Folder '{folder_path}' created.\")\n",
    "    else:\n",
    "        print(f\"Folder '{folder_path}' already exists.\")\n",
    "\n",
    "ensure_folder_exists('results')"
   ]
  },
  {
   "cell_type": "markdown",
   "metadata": {},
   "source": [
    "TODO Finally, save the results."
   ]
  },
  {
   "cell_type": "code",
   "execution_count": null,
   "metadata": {},
   "outputs": [],
   "source": [
    "# df_final.to_excel('results/department_co2.xlsx', index=False)\n",
    "df_final.to_pickle('results/department_co2.pkl')"
   ]
  }
 ],
 "metadata": {
  "kernelspec": {
   "display_name": ".venv",
   "language": "python",
   "name": "python3"
  },
  "language_info": {
   "codemirror_mode": {
    "name": "ipython",
    "version": 3
   },
   "file_extension": ".py",
   "mimetype": "text/x-python",
   "name": "python",
   "nbconvert_exporter": "python",
   "pygments_lexer": "ipython3",
   "version": "3.11.7"
  }
 },
 "nbformat": 4,
 "nbformat_minor": 2
}
