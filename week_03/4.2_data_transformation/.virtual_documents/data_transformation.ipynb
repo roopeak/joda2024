








import pandas as pd





emissions = pd.read_excel("./data/co2-emissions.xlsx")
cloud_providers = pd.read_excel("./data/cloud-providers.xlsx")





emissions_df = pd.DataFrame(emissions)
cloud_providers_df = pd.DataFrame(cloud_providers)

merged_df = pd.merge(emissions_df, cloud_providers_df, on="Cloud Provider", how="left")
print(merged_df)





aggregation_functions = {
    'Energy Consumption (kWh)': 'sum',
    'CO2 Emissions (Kg)': 'sum',
    "Training Data Size (GB)": "sum",
    "Training Duration (Hours)": "sum"
}

# Group by 'Department' and aggregate the specified columns
aggregated_df = merged_df.groupby('Department').agg(aggregation_functions)

# Reset index to make 'Department' a regular column
aggregated_df = aggregated_df.reset_index()

# Print the aggregated DataFrame
print(aggregated_df)






# Assuming 'merged_df' is the merged DataFrame from the previous step

# Calculate the total CO2 emissions for each department
co2_emissions_total = merged_df.groupby('Department')['CO2 Emissions (Kg)'].sum()

# Convert the series to a DataFrame and reset index
co2_emissions_total_df = co2_emissions_total.reset_index()

# Rename the column to indicate it represents the total CO2 emissions
co2_emissions_total_df.rename(columns={'CO2 Emissions (Kg)': 'Total CO2 Emissions (Kg)'}, inplace=True)

# Print the DataFrame showing total CO2 emissions for each department
print(co2_emissions_total_df)



TODO: Rename CO2 emission column to <code>co2_emissions_kg</code>   









def pick_most_frequent(values):
    return 'TODO'

pick_most_frequent(pd.Series(['A', 'B', 'B', 'C']))




















df_providers['Green Energy'].value_counts()


import os

def ensure_folder_exists(folder_path):
    if not os.path.exists(folder_path):
        os.makedirs(folder_path)
        print(f"Folder '{folder_path}' created.")
    else:
        print(f"Folder '{folder_path}' already exists.")

ensure_folder_exists('results')





# df_final.to_excel('results/department_co2.xlsx', index=False)
df_final.to_pickle('results/department_co2.pkl')
