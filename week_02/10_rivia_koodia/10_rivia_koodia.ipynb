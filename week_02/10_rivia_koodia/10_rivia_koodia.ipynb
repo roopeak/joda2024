{
 "cells": [
  {
   "cell_type": "markdown",
   "id": "b10cb9d6-9ec6-456e-b2bd-7a4b697c94ca",
   "metadata": {},
   "source": [
    "# Reading data and analyzing it's different variables"
   ]
  },
  {
   "cell_type": "code",
   "execution_count": 1,
   "id": "76fb76eb-bce8-4d24-95f1-c97ee78a6575",
   "metadata": {},
   "outputs": [
    {
     "ename": "SyntaxError",
     "evalue": "invalid syntax (3715472831.py, line 2)",
     "output_type": "error",
     "traceback": [
      "\u001b[0;36m  Cell \u001b[0;32mIn[1], line 2\u001b[0;36m\u001b[0m\n\u001b[0;31m    https://www.avoindata.fi/data/fi/dataset/suomen-tyokyvyttomyyselakkeensaajat-sairauden-mukaan\u001b[0m\n\u001b[0m          ^\u001b[0m\n\u001b[0;31mSyntaxError\u001b[0m\u001b[0;31m:\u001b[0m invalid syntax\n"
     ]
    }
   ],
   "source": [
    "### CSV available:\n",
    "https://www.avoindata.fi/data/fi/dataset/suomen-tyokyvyttomyyselakkeensaajat-sairauden-mukaan"
   ]
  },
  {
   "cell_type": "code",
   "execution_count": null,
   "id": "35dee1b1-e20e-4c59-8482-a91f4fa28cc2",
   "metadata": {},
   "outputs": [],
   "source": [
    "import pandas as pd\n",
    "\n",
    "# Read data from CSV\n",
    "data_csv = pd.read_csv('data.csv')\n",
    "\n",
    "# Display the first few rows of the data\n",
    "print(data_csv.head())\n",
    "\n",
    "# Check data types of variables\n",
    "print(\"Data types of variables:\\n\")\n",
    "print(data_csv.dtypes)\n",
    "\n",
    "# Check basic statistical information about the data\n",
    "print(\"Basic statistical information:\\n\")\n",
    "print(data_csv.describe())\n",
    "\n",
    "# Check for missing values in the data\n",
    "print(\"Missing values:\\n\")\n",
    "print(data_csv.isnull().sum())\n",
    "\n",
    "# Examine the distribution of values in certain column\n",
    "# Remember to change the 'column_name' to a column you \n",
    "# want to examine\n",
    "print(\"Distribution of values for 'vuosi':\\n\")\n",
    "print(data_csv['vuosi'].value_counts())\n"
   ]
  },
  {
   "cell_type": "code",
   "execution_count": null,
   "id": "6219beda-9ad3-443f-b153-0dc69f8a5325",
   "metadata": {},
   "outputs": [],
   "source": []
  },
  {
   "cell_type": "code",
   "execution_count": null,
   "id": "c5a7c484-5f90-432b-9f9c-3defa695960b",
   "metadata": {},
   "outputs": [],
   "source": []
  }
 ],
 "metadata": {
  "kernelspec": {
   "display_name": "Python 3 (ipykernel)",
   "language": "python",
   "name": "python3"
  },
  "language_info": {
   "codemirror_mode": {
    "name": "ipython",
    "version": 3
   },
   "file_extension": ".py",
   "mimetype": "text/x-python",
   "name": "python",
   "nbconvert_exporter": "python",
   "pygments_lexer": "ipython3",
   "version": "3.11.7"
  }
 },
 "nbformat": 4,
 "nbformat_minor": 5
}
