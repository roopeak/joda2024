





import pandas as pd

# Read data from CSV
data_csv = pd.read_csv('data.csv')

# Display the first few rows of the data
print(data_csv.head())

# Check data types of variables
print("Data types of variables:\n")
print(data_csv.dtypes)

# Check basic statistical information about the data
print("Basic statistical information:\n")
print(data_csv.describe())

# Check for missing values in the data
print("Missing values:\n")
print(data_csv.isnull().sum())

# Examine the distribution of values in certain column
# Remember to change the 'column_name' to a column you 
# want to examine
print("Distribution of values for 'vuosi':\n")
print(data_csv['vuosi'].value_counts())

