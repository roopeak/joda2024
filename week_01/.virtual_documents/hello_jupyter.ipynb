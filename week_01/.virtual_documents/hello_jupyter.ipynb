import os, sys, platform, json

json_file = "data.json"
                                                     
os_environment = platform.system()
python_version = sys.version.split(" ")[0]
jupyter_environment = "ipykernel"

data = {
    "os_environment": os_environment,
    "python_version": python_version,
    "jupyter_environment": "ipykernel",
    "skill_level": "beginner"
}

with open(json_file, "w") as file:
    json.dump(data, file)




