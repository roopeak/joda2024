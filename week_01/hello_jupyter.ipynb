{
 "cells": [
  {
   "cell_type": "code",
   "execution_count": 3,
   "id": "bd9b0db9",
   "metadata": {},
   "outputs": [],
   "source": [
    "import os, sys, platform, json\n",
    "\n",
    "json_file = \"data.json\"\n",
    "                                                     \n",
    "os_environment = platform.system()\n",
    "python_version = sys.version.split(\" \")[0]\n",
    "jupyter_environment = \"ipykernel\"\n",
    "\n",
    "data = {\n",
    "    \"os_environment\": os_environment,\n",
    "    \"python_version\": python_version,\n",
    "    \"jupyter_environment\": \"ipykernel\",\n",
    "    \"skill_level\": \"beginner\"\n",
    "}\n",
    "\n",
    "with open(json_file, \"w\") as file:\n",
    "    json.dump(data, file)\n"
   ]
  }
 ],
 "metadata": {
  "kernelspec": {
   "display_name": "Python 3 (ipykernel)",
   "language": "python",
   "name": "python3"
  },
  "language_info": {
   "codemirror_mode": {
    "name": "ipython",
    "version": 3
   },
   "file_extension": ".py",
   "mimetype": "text/x-python",
   "name": "python",
   "nbconvert_exporter": "python",
   "pygments_lexer": "ipython3",
   "version": "3.11.8"
  }
 },
 "nbformat": 4,
 "nbformat_minor": 5
}
